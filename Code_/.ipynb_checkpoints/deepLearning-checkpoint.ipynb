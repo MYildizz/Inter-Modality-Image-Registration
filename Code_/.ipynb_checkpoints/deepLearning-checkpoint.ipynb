{
 "cells": [
  {
   "cell_type": "code",
   "execution_count": 1,
   "metadata": {},
   "outputs": [],
   "source": [
    "import matplotlib.pyplot as plt\n",
    "import cv2\n",
    "import numpy as np\n",
    "import pandas as pd\n",
    "import math\n",
    "from skimage import filters\n",
    "from skimage import feature\n",
    "\n",
    "import skimage\n",
    "import skimage.io as io\n",
    "\n",
    "from skimage.color import rgb2gray\n",
    "from skimage.segmentation import felzenszwalb, quickshift\n",
    "from skimage.segmentation import mark_boundaries\n",
    "from skimage.util import img_as_float"
   ]
  },
  {
   "cell_type": "code",
   "execution_count": 2,
   "metadata": {},
   "outputs": [],
   "source": [
    "def calculateDistance(point1,point2):\n",
    "    return math.sqrt((point1[0]-point2[0])**2 + (point1[1]-point2[1])**2)\n",
    "\n",
    "def calculateIdealLowPassFilter(D0,imgShape):\n",
    "    lowPassScpectrum = np.zeros(imgShape[:2])\n",
    "    rows, cols = imgShape[:2]\n",
    "    center = (rows/2,cols/2)\n",
    "    for x in range(cols):\n",
    "        for y in range(rows):\n",
    "            if calculateDistance((y,x),center) < D0:\n",
    "                lowPassScpectrum[y,x] = 1\n",
    "    return lowPassScpectrum\n",
    "\n",
    "def low_pass(img):   \n",
    "  \n",
    "    original = np.fft.fft2(img)\n",
    "    center = np.fft.fftshift(original)\n",
    "    LowPassCenter =  center * calculateIdealLowPassFilter(30,img.shape)\n",
    "\n",
    "    LowPass = np.fft.ifftshift(LowPassCenter)\n",
    "    inverse_LowPass = np.fft.ifft2(LowPass)   \n",
    "\n",
    "    return np.abs(inverse_LowPass)"
   ]
  },
  {
   "cell_type": "code",
   "execution_count": 3,
   "metadata": {},
   "outputs": [],
   "source": [
    "def calculateDistance(point1,point2):\n",
    "    return math.sqrt((point1[0]-point2[0])**2 + (point1[1]-point2[1])**2)\n",
    "\n",
    "def calculateButterworthHightPassFilter(D0,imgShape,n):\n",
    "    hightPassScpectrum = np.zeros(imgShape[:2])\n",
    "    rows, cols = imgShape[:2]\n",
    "    center = (rows/2,cols/2)\n",
    "    for x in range(cols):\n",
    "        for y in range(rows):\n",
    "            hightPassScpectrum[y,x] = 1-1/(1+(calculateDistance((y,x),center)/D0)**(2*n))\n",
    "    return hightPassScpectrum\n",
    "\n",
    "def high_pass(img):   \n",
    "  \n",
    "    original = np.fft.fft2(img)\n",
    "    center = np.fft.fftshift(original)\n",
    "\n",
    "    HighPassCenter = center * calculateButterworthHightPassFilter(30,img.shape,2)\n",
    "    HighPass = np.fft.ifftshift(HighPassCenter)\n",
    "    inverse_HighPass = np.fft.ifft2(HighPass)  \n",
    "\n",
    "    return np.abs(inverse_HighPass)\n"
   ]
  },
  {
   "cell_type": "code",
   "execution_count": 4,
   "metadata": {},
   "outputs": [],
   "source": [
    "def super_pixel(input):\n",
    "\n",
    "    img = skimage.img_as_float(skimage.io.imread(input))[::2, ::2]\n",
    "\n",
    "    segments_fz = felzenszwalb(img, scale=100, sigma=0.5, min_size=50)                     \n",
    "    segments_quick = quickshift(img, kernel_size=3, max_dist=6, ratio=0.5)\n",
    "\n",
    "    a=mark_boundaries(img, segments_fz)\n",
    "    b=mark_boundaries(img, segments_quick)\n",
    "    plt.figure()\n",
    "    plt.imshow(a)\n",
    "    plt.show()\n",
    "    plt.figure()\n",
    "    plt.imshow(b)\n"
   ]
  },
  {
   "cell_type": "code",
   "execution_count": 5,
   "metadata": {},
   "outputs": [
    {
     "ename": "error",
     "evalue": "OpenCV(4.0.1) C:\\ci\\opencv-suite_1573470242804\\work\\modules\\imgproc\\src\\color.cpp:181: error: (-215:Assertion failed) !_src.empty() in function 'cv::cvtColor'\n",
     "output_type": "error",
     "traceback": [
      "\u001b[1;31m---------------------------------------------------------------------------\u001b[0m",
      "\u001b[1;31merror\u001b[0m                                     Traceback (most recent call last)",
      "\u001b[1;32m<ipython-input-5-bbf66032fd6d>\u001b[0m in \u001b[0;36m<module>\u001b[1;34m\u001b[0m\n\u001b[0;32m      1\u001b[0m \u001b[0ma\u001b[0m\u001b[1;33m=\u001b[0m\u001b[0mcv2\u001b[0m\u001b[1;33m.\u001b[0m\u001b[0mimread\u001b[0m\u001b[1;33m(\u001b[0m\u001b[1;34m\"CT/\"\u001b[0m\u001b[1;33m+\u001b[0m\u001b[0mstr\u001b[0m\u001b[1;33m(\u001b[0m\u001b[1;36m1\u001b[0m\u001b[1;33m)\u001b[0m\u001b[1;33m+\u001b[0m\u001b[1;34m\".jpeg\"\u001b[0m\u001b[1;33m)\u001b[0m\u001b[1;33m\u001b[0m\u001b[1;33m\u001b[0m\u001b[0m\n\u001b[1;32m----> 2\u001b[1;33m \u001b[0mct_images\u001b[0m \u001b[1;33m=\u001b[0m \u001b[0mcv2\u001b[0m\u001b[1;33m.\u001b[0m\u001b[0mcvtColor\u001b[0m\u001b[1;33m(\u001b[0m\u001b[0ma\u001b[0m\u001b[1;33m,\u001b[0m \u001b[0mcv2\u001b[0m\u001b[1;33m.\u001b[0m\u001b[0mCOLOR_BGR2GRAY\u001b[0m\u001b[1;33m)\u001b[0m\u001b[1;33m\u001b[0m\u001b[1;33m\u001b[0m\u001b[0m\n\u001b[0m\u001b[0;32m      3\u001b[0m \u001b[0msuper_pixel\u001b[0m\u001b[1;33m(\u001b[0m\u001b[0mct_images\u001b[0m\u001b[1;33m)\u001b[0m\u001b[1;33m\u001b[0m\u001b[1;33m\u001b[0m\u001b[0m\n",
      "\u001b[1;31merror\u001b[0m: OpenCV(4.0.1) C:\\ci\\opencv-suite_1573470242804\\work\\modules\\imgproc\\src\\color.cpp:181: error: (-215:Assertion failed) !_src.empty() in function 'cv::cvtColor'\n"
     ]
    }
   ],
   "source": [
    "a=cv2.imread(\"CT/\"+str(1)+\".jpeg\")\n",
    "ct_images = cv2.cvtColor(a, cv2.COLOR_BGR2GRAY)\n",
    "super_pixel(ct_images)"
   ]
  },
  {
   "cell_type": "code",
   "execution_count": 6,
   "metadata": {},
   "outputs": [
    {
     "ename": "FileNotFoundError",
     "evalue": "[Errno 2] No such file or directory: 'RESULT/1.tif'",
     "output_type": "error",
     "traceback": [
      "\u001b[1;31m---------------------------------------------------------------------------\u001b[0m",
      "\u001b[1;31mFileNotFoundError\u001b[0m                         Traceback (most recent call last)",
      "\u001b[1;32m<ipython-input-6-687d1b869965>\u001b[0m in \u001b[0;36m<module>\u001b[1;34m\u001b[0m\n\u001b[0;32m      1\u001b[0m \u001b[0ma\u001b[0m\u001b[1;33m=\u001b[0m\u001b[0mcv2\u001b[0m\u001b[1;33m.\u001b[0m\u001b[0mimread\u001b[0m\u001b[1;33m(\u001b[0m\u001b[1;34m\"CT/\"\u001b[0m\u001b[1;33m+\u001b[0m\u001b[0mstr\u001b[0m\u001b[1;33m(\u001b[0m\u001b[1;36m1\u001b[0m\u001b[1;33m)\u001b[0m\u001b[1;33m+\u001b[0m\u001b[1;34m\".jpeg\"\u001b[0m\u001b[1;33m)\u001b[0m\u001b[1;33m\u001b[0m\u001b[1;33m\u001b[0m\u001b[0m\n\u001b[0;32m      2\u001b[0m \u001b[0mb\u001b[0m\u001b[1;33m=\u001b[0m\u001b[0mcv2\u001b[0m\u001b[1;33m.\u001b[0m\u001b[0mimread\u001b[0m\u001b[1;33m(\u001b[0m\u001b[1;34m\"MRI/\"\u001b[0m\u001b[1;33m+\u001b[0m\u001b[0mstr\u001b[0m\u001b[1;33m(\u001b[0m\u001b[1;36m1\u001b[0m\u001b[1;33m)\u001b[0m\u001b[1;33m+\u001b[0m\u001b[1;34m\".jpeg\"\u001b[0m\u001b[1;33m)\u001b[0m\u001b[1;33m\u001b[0m\u001b[1;33m\u001b[0m\u001b[0m\n\u001b[1;32m----> 3\u001b[1;33m \u001b[0mc\u001b[0m\u001b[1;33m=\u001b[0m\u001b[0mplt\u001b[0m\u001b[1;33m.\u001b[0m\u001b[0mimread\u001b[0m\u001b[1;33m(\u001b[0m\u001b[1;34m\"RESULT/\"\u001b[0m\u001b[1;33m+\u001b[0m\u001b[0mstr\u001b[0m\u001b[1;33m(\u001b[0m\u001b[1;36m1\u001b[0m\u001b[1;33m)\u001b[0m\u001b[1;33m+\u001b[0m\u001b[1;34m\".tif\"\u001b[0m\u001b[1;33m)\u001b[0m\u001b[1;33m\u001b[0m\u001b[1;33m\u001b[0m\u001b[0m\n\u001b[0m\u001b[0;32m      4\u001b[0m \u001b[1;33m\u001b[0m\u001b[0m\n\u001b[0;32m      5\u001b[0m \u001b[1;31m# MRI - CT images\u001b[0m\u001b[1;33m\u001b[0m\u001b[1;33m\u001b[0m\u001b[1;33m\u001b[0m\u001b[0m\n",
      "\u001b[1;32m~\\anaconda3\\lib\\site-packages\\matplotlib\\pyplot.py\u001b[0m in \u001b[0;36mimread\u001b[1;34m(fname, format)\u001b[0m\n\u001b[0;32m   2059\u001b[0m \u001b[1;33m@\u001b[0m\u001b[0mdocstring\u001b[0m\u001b[1;33m.\u001b[0m\u001b[0mcopy\u001b[0m\u001b[1;33m(\u001b[0m\u001b[0mmatplotlib\u001b[0m\u001b[1;33m.\u001b[0m\u001b[0mimage\u001b[0m\u001b[1;33m.\u001b[0m\u001b[0mimread\u001b[0m\u001b[1;33m)\u001b[0m\u001b[1;33m\u001b[0m\u001b[1;33m\u001b[0m\u001b[0m\n\u001b[0;32m   2060\u001b[0m \u001b[1;32mdef\u001b[0m \u001b[0mimread\u001b[0m\u001b[1;33m(\u001b[0m\u001b[0mfname\u001b[0m\u001b[1;33m,\u001b[0m \u001b[0mformat\u001b[0m\u001b[1;33m=\u001b[0m\u001b[1;32mNone\u001b[0m\u001b[1;33m)\u001b[0m\u001b[1;33m:\u001b[0m\u001b[1;33m\u001b[0m\u001b[1;33m\u001b[0m\u001b[0m\n\u001b[1;32m-> 2061\u001b[1;33m     \u001b[1;32mreturn\u001b[0m \u001b[0mmatplotlib\u001b[0m\u001b[1;33m.\u001b[0m\u001b[0mimage\u001b[0m\u001b[1;33m.\u001b[0m\u001b[0mimread\u001b[0m\u001b[1;33m(\u001b[0m\u001b[0mfname\u001b[0m\u001b[1;33m,\u001b[0m \u001b[0mformat\u001b[0m\u001b[1;33m)\u001b[0m\u001b[1;33m\u001b[0m\u001b[1;33m\u001b[0m\u001b[0m\n\u001b[0m\u001b[0;32m   2062\u001b[0m \u001b[1;33m\u001b[0m\u001b[0m\n\u001b[0;32m   2063\u001b[0m \u001b[1;33m\u001b[0m\u001b[0m\n",
      "\u001b[1;32m~\\anaconda3\\lib\\site-packages\\matplotlib\\image.py\u001b[0m in \u001b[0;36mimread\u001b[1;34m(fname, format)\u001b[0m\n\u001b[0;32m   1462\u001b[0m             raise ValueError('Only know how to handle PNG; with Pillow '\n\u001b[0;32m   1463\u001b[0m                              'installed, Matplotlib can handle more images')\n\u001b[1;32m-> 1464\u001b[1;33m         \u001b[1;32mwith\u001b[0m \u001b[0mImage\u001b[0m\u001b[1;33m.\u001b[0m\u001b[0mopen\u001b[0m\u001b[1;33m(\u001b[0m\u001b[0mfname\u001b[0m\u001b[1;33m)\u001b[0m \u001b[1;32mas\u001b[0m \u001b[0mimage\u001b[0m\u001b[1;33m:\u001b[0m\u001b[1;33m\u001b[0m\u001b[1;33m\u001b[0m\u001b[0m\n\u001b[0m\u001b[0;32m   1465\u001b[0m             \u001b[1;32mreturn\u001b[0m \u001b[0mpil_to_array\u001b[0m\u001b[1;33m(\u001b[0m\u001b[0mimage\u001b[0m\u001b[1;33m)\u001b[0m\u001b[1;33m\u001b[0m\u001b[1;33m\u001b[0m\u001b[0m\n\u001b[0;32m   1466\u001b[0m     \u001b[1;32mfrom\u001b[0m \u001b[0mmatplotlib\u001b[0m \u001b[1;32mimport\u001b[0m \u001b[0m_png\u001b[0m\u001b[1;33m\u001b[0m\u001b[1;33m\u001b[0m\u001b[0m\n",
      "\u001b[1;32m~\\anaconda3\\lib\\site-packages\\PIL\\Image.py\u001b[0m in \u001b[0;36mopen\u001b[1;34m(fp, mode)\u001b[0m\n\u001b[0;32m   2876\u001b[0m \u001b[1;33m\u001b[0m\u001b[0m\n\u001b[0;32m   2877\u001b[0m     \u001b[1;32mif\u001b[0m \u001b[0mfilename\u001b[0m\u001b[1;33m:\u001b[0m\u001b[1;33m\u001b[0m\u001b[1;33m\u001b[0m\u001b[0m\n\u001b[1;32m-> 2878\u001b[1;33m         \u001b[0mfp\u001b[0m \u001b[1;33m=\u001b[0m \u001b[0mbuiltins\u001b[0m\u001b[1;33m.\u001b[0m\u001b[0mopen\u001b[0m\u001b[1;33m(\u001b[0m\u001b[0mfilename\u001b[0m\u001b[1;33m,\u001b[0m \u001b[1;34m\"rb\"\u001b[0m\u001b[1;33m)\u001b[0m\u001b[1;33m\u001b[0m\u001b[1;33m\u001b[0m\u001b[0m\n\u001b[0m\u001b[0;32m   2879\u001b[0m         \u001b[0mexclusive_fp\u001b[0m \u001b[1;33m=\u001b[0m \u001b[1;32mTrue\u001b[0m\u001b[1;33m\u001b[0m\u001b[1;33m\u001b[0m\u001b[0m\n\u001b[0;32m   2880\u001b[0m \u001b[1;33m\u001b[0m\u001b[0m\n",
      "\u001b[1;31mFileNotFoundError\u001b[0m: [Errno 2] No such file or directory: 'RESULT/1.tif'"
     ]
    }
   ],
   "source": [
    "a=cv2.imread(\"CT/\"+str(1)+\".jpeg\")\n",
    "b=cv2.imread(\"MRI/\"+str(1)+\".jpeg\")\n",
    "c=plt.imread(\"RESULT/\"+str(1)+\".tif\")\n",
    "\n",
    "# MRI - CT images\n",
    "ct_images = cv2.cvtColor(a, cv2.COLOR_BGR2GRAY)\n",
    "mr_images = cv2.cvtColor(b, cv2.COLOR_BGR2GRAY)\n",
    "\n",
    "#Features1\n",
    "edge_sobel_mr = filters.sobel(mr_images).reshape(-1,1)\n",
    "edge_sobel_ct=filters.sobel(ct_images).reshape(-1,1)\n",
    "\n",
    "#Feature2\n",
    "edge_mr = feature.canny(mr_images).reshape(-1,1)\n",
    "edge_ct=feature.canny(ct_images).reshape(-1,1)\n",
    "\n",
    "#Feature3 Low Pass Filter\n",
    "low_pass_mr=low_pass(mr_images).reshape(-1,1)\n",
    "low_pass_ct=low_pass(ct_images).reshape(-1,1)\n",
    "\n",
    "#Feature4 High Pass Filter\n",
    "#high_pass_mr=high_pass(mr_images).reshape(-1,1)\n",
    "#high_pass_ct=high_pass(ct_images).reshape(-1,1)\n",
    "\n",
    "ct_images = ct_images.reshape(-1,1)\n",
    "mr_images = mr_images.reshape(-1,1)\n",
    "result_images = cv2.cvtColor(c, cv2.COLOR_BGR2GRAY).reshape(-1,1)\n",
    "\n",
    "plt.imshow(edge_sobel_mr.reshape(384,384),cmap=\"gray\")\n",
    "\n",
    "\n"
   ]
  },
  {
   "cell_type": "code",
   "execution_count": null,
   "metadata": {},
   "outputs": [],
   "source": [
    "\n",
    "for i in range(2,6):\n",
    "    a=cv2.imread(\"CT/\"+str(i)+\".jpeg\")\n",
    "    b=cv2.imread(\"MRI/\"+str(i)+\".jpeg\")\n",
    "    c=plt.imread(\"RESULT/\"+str(i)+\".tif\")\n",
    "    \n",
    "    \n",
    "    a = cv2.cvtColor(a, cv2.COLOR_BGR2GRAY)\n",
    "    b = cv2.cvtColor(b, cv2.COLOR_BGR2GRAY)\n",
    "    c = cv2.cvtColor(c, cv2.COLOR_BGR2GRAY).reshape(-1,1)\n",
    "    \n",
    "    #Features1\n",
    "    d = filters.sobel(b).reshape(-1,1)\n",
    "    e=filters.sobel(a).reshape(-1,1)\n",
    "\n",
    "    #Feature2\n",
    "    g = feature.canny(b).reshape(-1,1)\n",
    "    h=feature.canny(a).reshape(-1,1)\n",
    "    \n",
    "    #Feature3 Low Pass Filter\n",
    "    x=low_pass(b).reshape(-1,1)\n",
    "    y=low_pass(a).reshape(-1,1)\n",
    "    \n",
    "    a=a.reshape(-1,1)\n",
    "    b=b.reshape(-1,1)\n",
    "    \n",
    "    ct_images=np.concatenate((ct_images, a), axis=0)\n",
    "    mr_images=np.concatenate((mr_images, b), axis=0)\n",
    "    result_images=np.concatenate((result_images, c), axis=0)   \n",
    "    \n",
    "    edge_sobel_mr=np.concatenate((edge_sobel_mr, d), axis=0)\n",
    "    edge_sobel_ct=np.concatenate((edge_sobel_ct, e), axis=0)\n",
    "    \n",
    "    edge_mr=np.concatenate((edge_mr, g), axis=0)\n",
    "    edge_ct=np.concatenate((edge_ct, h), axis=0)\n",
    "    \n",
    "    low_pass_mr=np.concatenate((low_pass_mr, x), axis=0)\n",
    "    low_pass_ct=np.concatenate((low_pass_ct, y), axis=0)\n",
    "    \n",
    "    \n",
    "\n",
    "print(ct_images.shape)\n",
    "print(mr_images.shape)\n",
    "print(result_images.shape)\n",
    "print(low_pass_mr.shape)\n",
    "print(low_pass_ct.shape)"
   ]
  },
  {
   "cell_type": "raw",
   "metadata": {},
   "source": [
    "for i in range(18):\n",
    "    size=int(math.sqrt(len(result_images[i])))\n",
    "    plt.figure()\n",
    "    plt.imshow(result_images[i].reshape(size,size))\n",
    "    plt.show()"
   ]
  },
  {
   "cell_type": "code",
   "execution_count": null,
   "metadata": {},
   "outputs": [],
   "source": [
    "X=np.concatenate((ct_images, mr_images,edge_sobel_mr,edge_sobel_ct,edge_mr,edge_ct,low_pass_mr,low_pass_ct), axis=1)\n",
    "y=result_images"
   ]
  },
  {
   "cell_type": "code",
   "execution_count": null,
   "metadata": {},
   "outputs": [],
   "source": [
    "X.shape\n",
    "\n"
   ]
  },
  {
   "cell_type": "code",
   "execution_count": null,
   "metadata": {},
   "outputs": [],
   "source": [
    "y.shape"
   ]
  },
  {
   "cell_type": "code",
   "execution_count": null,
   "metadata": {},
   "outputs": [],
   "source": [
    "test_x2=cv2.imread(\"MRI/4.jpeg\") \n",
    "test_x=cv2.imread(\"CT/4.jpeg\") \n",
    "\n",
    "\n",
    "#Test images\n",
    "test_x = cv2.cvtColor(test_x, cv2.COLOR_BGR2GRAY)\n",
    "test_x2 = cv2.cvtColor(test_x2, cv2.COLOR_BGR2GRAY)\n",
    "\n",
    "#Feature Extraction 1\n",
    "feature1_mr = filters.sobel(test_x2).reshape(-1,1)\n",
    "feature1_ct=filters.sobel(test_x).reshape(-1,1)\n",
    "\n",
    "#Feature Extraction 2\n",
    "feature2_mr = feature.canny(test_x2).reshape(-1,1)\n",
    "feature2_ct=feature.canny(test_x).reshape(-1,1)\n",
    "\n",
    "#Feature3 Low Pass Filter\n",
    "test_low_mr=low_pass(test_x2).reshape(-1,1)\n",
    "test_low_ct=low_pass(test_x).reshape(-1,1)\n",
    "\n",
    "\n",
    "\n",
    "test_x = test_x.reshape(-1,1)\n",
    "test_x2 = test_x2.reshape(-1,1) \n",
    "\n",
    "\n",
    "\n",
    "#(ct_images, mr_images,edge_sobel_mr,edge_sobel_ct)\n",
    "test=np.concatenate((test_x, test_x2,feature1_mr,feature1_ct,feature2_mr,feature2_ct,test_low_mr,test_low_ct), axis=1)\n",
    "\n",
    "test_result=plt.imread(\"RESULT/4.tif\")   \n",
    "test_result = cv2.cvtColor(test_result, cv2.COLOR_BGR2GRAY).reshape(-1,1)"
   ]
  },
  {
   "cell_type": "code",
   "execution_count": null,
   "metadata": {},
   "outputs": [],
   "source": [
    "test.shape"
   ]
  },
  {
   "cell_type": "code",
   "execution_count": null,
   "metadata": {},
   "outputs": [],
   "source": [
    "test_result.shape"
   ]
  },
  {
   "cell_type": "code",
   "execution_count": null,
   "metadata": {},
   "outputs": [],
   "source": [
    "import keras\n",
    "from keras.layers import Dense\n",
    "from keras.models import Sequential\n",
    "\n",
    "import pandas as pd\n",
    "from sklearn import preprocessing\n",
    "\n",
    "\n",
    "\n",
    "\n",
    "classifier=Sequential()\n",
    "classifier.add(Dense(12, activation=\"relu\",input_dim=8))\n",
    "classifier.add(Dense(8, activation=\"relu\"))\n",
    "classifier.add(Dense(6, activation=\"relu\"))\n",
    "classifier.add(Dense(3, activation=\"relu\"))\n",
    "classifier.add(Dense(6, activation=\"relu\"))\n",
    "classifier.add(Dense(8, activation=\"relu\"))\n",
    "classifier.add(Dense(1, activation=\"relu\"))\n",
    "\n",
    "classifier.compile(optimizer=\"adam\",loss=\"mean_absolute_error\",metrics=[\"accuracy\"])\n",
    "\n",
    "summary=classifier.fit(X,y,epochs=35,batch_size=120,validation_data=(test,test_result))\n",
    "\n"
   ]
  },
  {
   "cell_type": "code",
   "execution_count": null,
   "metadata": {},
   "outputs": [],
   "source": [
    "y_pred=classifier.predict(test)\n",
    "y_pred.shape"
   ]
  },
  {
   "cell_type": "code",
   "execution_count": null,
   "metadata": {},
   "outputs": [],
   "source": [
    "size=int(math.sqrt(len(y_pred)))\n",
    "plt.figure(figsize=(5,5))\n",
    "plt.title(\"Predicted Result\")\n",
    "plt.imshow(y_pred.reshape(size,size),cmap=\"gray\")\n",
    "plt.show()\n",
    "\n",
    "plt.figure(figsize=(5,5))\n",
    "plt.title(\"Virtual Result\")\n",
    "plt.imshow(test_result.reshape(size,size),cmap=\"gray\")\n",
    "plt.show()"
   ]
  },
  {
   "cell_type": "code",
   "execution_count": null,
   "metadata": {},
   "outputs": [],
   "source": [
    "print(np.unique(y_pred))"
   ]
  },
  {
   "cell_type": "code",
   "execution_count": null,
   "metadata": {},
   "outputs": [],
   "source": [
    "from sklearn.metrics import mean_absolute_error\n",
    "mean_absolute_error(test_result, y_pred)"
   ]
  },
  {
   "cell_type": "code",
   "execution_count": null,
   "metadata": {},
   "outputs": [],
   "source": [
    "classifier.save(\"best_result.h5\")"
   ]
  },
  {
   "cell_type": "code",
   "execution_count": null,
   "metadata": {},
   "outputs": [],
   "source": [
    "classifier.summary()"
   ]
  },
  {
   "cell_type": "code",
   "execution_count": null,
   "metadata": {},
   "outputs": [],
   "source": [
    "from tensorflow.keras.utils import plot_model\n",
    "plot_model(classifier, to_file='model1.png', show_shapes=True, show_layer_names=True)"
   ]
  },
  {
   "cell_type": "code",
   "execution_count": null,
   "metadata": {},
   "outputs": [],
   "source": [
    "pd.DataFrame(summary.history).plot(figsize=(8, 5))\n",
    "plt.grid(True)\n",
    "plt.gca().set_ylim(0, 1) \n",
    "plt.show()"
   ]
  },
  {
   "cell_type": "code",
   "execution_count": null,
   "metadata": {},
   "outputs": [],
   "source": [
    "print(\"Error is : \",(mean_absolute_error(test_result, y_pred)/256) *100,\"%\")"
   ]
  },
  {
   "cell_type": "code",
   "execution_count": null,
   "metadata": {},
   "outputs": [],
   "source": [
    "print(\"Accuracy is : \",100 - (mean_absolute_error(test_result, y_pred)/256) *100,\"%\")"
   ]
  },
  {
   "cell_type": "code",
   "execution_count": null,
   "metadata": {},
   "outputs": [],
   "source": []
  }
 ],
 "metadata": {
  "kernelspec": {
   "display_name": "Python 3",
   "language": "python",
   "name": "python3"
  },
  "language_info": {
   "codemirror_mode": {
    "name": "ipython",
    "version": 3
   },
   "file_extension": ".py",
   "mimetype": "text/x-python",
   "name": "python",
   "nbconvert_exporter": "python",
   "pygments_lexer": "ipython3",
   "version": "3.8.3"
  }
 },
 "nbformat": 4,
 "nbformat_minor": 4
}
